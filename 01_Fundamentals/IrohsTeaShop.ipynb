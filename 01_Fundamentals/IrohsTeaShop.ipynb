{
 "cells": [
  {
   "cell_type": "markdown",
   "id": "0f91e468",
   "metadata": {},
   "source": [
    "# Iroh's Tea Shop\n",
    "\n",
    "### NumPy & Pandas Exercise\n",
    "1. Create an array of prices for the drinks being sold\n",
    "2. Display the prices as a dataframe\n",
    "3. Create a matrix of cups of tea sold over the course of a week\n",
    "4. Create a dataframe with the cups sold\n",
    "5. Add a column to the dataframe with the total sales on each day"
   ]
  },
  {
   "cell_type": "code",
   "execution_count": 1,
   "id": "c192fea0",
   "metadata": {},
   "outputs": [],
   "source": [
    "import numpy as np\n",
    "import pandas as pd"
   ]
  },
  {
   "cell_type": "code",
   "execution_count": 2,
   "id": "742279f2",
   "metadata": {},
   "outputs": [
    {
     "data": {
      "text/plain": [
       "(5,)"
      ]
     },
     "execution_count": 2,
     "metadata": {},
     "output_type": "execute_result"
    }
   ],
   "source": [
    "prices = np.array([4.75, 5.50, 5.00, 6.00, 6.25], dtype='float32')\n",
    "\n",
    "prices.shape"
   ]
  },
  {
   "cell_type": "code",
   "execution_count": 3,
   "id": "b51a5485",
   "metadata": {},
   "outputs": [
    {
     "data": {
      "text/html": [
       "<div>\n",
       "<style scoped>\n",
       "    .dataframe tbody tr th:only-of-type {\n",
       "        vertical-align: middle;\n",
       "    }\n",
       "\n",
       "    .dataframe tbody tr th {\n",
       "        vertical-align: top;\n",
       "    }\n",
       "\n",
       "    .dataframe thead th {\n",
       "        text-align: right;\n",
       "    }\n",
       "</style>\n",
       "<table border=\"1\" class=\"dataframe\">\n",
       "  <thead>\n",
       "    <tr style=\"text-align: right;\">\n",
       "      <th></th>\n",
       "      <th>Price ($)</th>\n",
       "    </tr>\n",
       "  </thead>\n",
       "  <tbody>\n",
       "    <tr>\n",
       "      <th>Oolong Tea</th>\n",
       "      <td>4.75</td>\n",
       "    </tr>\n",
       "    <tr>\n",
       "      <th>Jasmine Tea</th>\n",
       "      <td>5.50</td>\n",
       "    </tr>\n",
       "    <tr>\n",
       "      <th>Green Tea</th>\n",
       "      <td>5.00</td>\n",
       "    </tr>\n",
       "    <tr>\n",
       "      <th>Matcha</th>\n",
       "      <td>6.00</td>\n",
       "    </tr>\n",
       "    <tr>\n",
       "      <th>Hot Cocoa</th>\n",
       "      <td>6.25</td>\n",
       "    </tr>\n",
       "  </tbody>\n",
       "</table>\n",
       "</div>"
      ],
      "text/plain": [
       "             Price ($)\n",
       "Oolong Tea        4.75\n",
       "Jasmine Tea       5.50\n",
       "Green Tea         5.00\n",
       "Matcha            6.00\n",
       "Hot Cocoa         6.25"
      ]
     },
     "execution_count": 3,
     "metadata": {},
     "output_type": "execute_result"
    }
   ],
   "source": [
    "tea_prices = pd.DataFrame(prices,\n",
    "                          index=[\"Oolong Tea\", \"Jasmine Tea\", \"Green Tea\", \"Matcha\", \"Hot Cocoa\"],\n",
    "                          columns=[\"Price ($)\"])\n",
    "tea_prices"
   ]
  },
  {
   "cell_type": "code",
   "execution_count": 4,
   "id": "04c2b260",
   "metadata": {},
   "outputs": [
    {
     "data": {
      "text/plain": [
       "array([[101,  51, 224, 231,  76],\n",
       "       [134, 139, 128, 180,  80],\n",
       "       [ 90, 172, 219, 193, 138],\n",
       "       [208,  68, 237, 144, 154],\n",
       "       [212, 140, 116, 149, 243],\n",
       "       [ 97,  70,  57,  92,  85],\n",
       "       [231, 159, 247, 200,  51]])"
      ]
     },
     "execution_count": 4,
     "metadata": {},
     "output_type": "execute_result"
    }
   ],
   "source": [
    "np.random.seed(3000)\n",
    "\n",
    "cups_sold = np.random.randint(50, 250, size=(7,5))\n",
    "cups_sold"
   ]
  },
  {
   "cell_type": "code",
   "execution_count": 5,
   "id": "a59f5ee7",
   "metadata": {},
   "outputs": [
    {
     "data": {
      "text/html": [
       "<div>\n",
       "<style scoped>\n",
       "    .dataframe tbody tr th:only-of-type {\n",
       "        vertical-align: middle;\n",
       "    }\n",
       "\n",
       "    .dataframe tbody tr th {\n",
       "        vertical-align: top;\n",
       "    }\n",
       "\n",
       "    .dataframe thead th {\n",
       "        text-align: right;\n",
       "    }\n",
       "</style>\n",
       "<table border=\"1\" class=\"dataframe\">\n",
       "  <thead>\n",
       "    <tr style=\"text-align: right;\">\n",
       "      <th></th>\n",
       "      <th>Oolong Tea</th>\n",
       "      <th>Jasmine Tea</th>\n",
       "      <th>Green Tea</th>\n",
       "      <th>Matcha</th>\n",
       "      <th>Hot Cocoa</th>\n",
       "    </tr>\n",
       "  </thead>\n",
       "  <tbody>\n",
       "    <tr>\n",
       "      <th>Mon</th>\n",
       "      <td>101</td>\n",
       "      <td>51</td>\n",
       "      <td>224</td>\n",
       "      <td>231</td>\n",
       "      <td>76</td>\n",
       "    </tr>\n",
       "    <tr>\n",
       "      <th>Tue</th>\n",
       "      <td>134</td>\n",
       "      <td>139</td>\n",
       "      <td>128</td>\n",
       "      <td>180</td>\n",
       "      <td>80</td>\n",
       "    </tr>\n",
       "    <tr>\n",
       "      <th>Wed</th>\n",
       "      <td>90</td>\n",
       "      <td>172</td>\n",
       "      <td>219</td>\n",
       "      <td>193</td>\n",
       "      <td>138</td>\n",
       "    </tr>\n",
       "    <tr>\n",
       "      <th>Thu</th>\n",
       "      <td>208</td>\n",
       "      <td>68</td>\n",
       "      <td>237</td>\n",
       "      <td>144</td>\n",
       "      <td>154</td>\n",
       "    </tr>\n",
       "    <tr>\n",
       "      <th>Fri</th>\n",
       "      <td>212</td>\n",
       "      <td>140</td>\n",
       "      <td>116</td>\n",
       "      <td>149</td>\n",
       "      <td>243</td>\n",
       "    </tr>\n",
       "    <tr>\n",
       "      <th>Sat</th>\n",
       "      <td>97</td>\n",
       "      <td>70</td>\n",
       "      <td>57</td>\n",
       "      <td>92</td>\n",
       "      <td>85</td>\n",
       "    </tr>\n",
       "    <tr>\n",
       "      <th>Sun</th>\n",
       "      <td>231</td>\n",
       "      <td>159</td>\n",
       "      <td>247</td>\n",
       "      <td>200</td>\n",
       "      <td>51</td>\n",
       "    </tr>\n",
       "  </tbody>\n",
       "</table>\n",
       "</div>"
      ],
      "text/plain": [
       "     Oolong Tea  Jasmine Tea  Green Tea  Matcha  Hot Cocoa\n",
       "Mon         101           51        224     231         76\n",
       "Tue         134          139        128     180         80\n",
       "Wed          90          172        219     193        138\n",
       "Thu         208           68        237     144        154\n",
       "Fri         212          140        116     149        243\n",
       "Sat          97           70         57      92         85\n",
       "Sun         231          159        247     200         51"
      ]
     },
     "execution_count": 5,
     "metadata": {},
     "output_type": "execute_result"
    }
   ],
   "source": [
    "daily_sales = pd.DataFrame(cups_sold,\n",
    "                            index=[\"Mon\", \"Tue\", \"Wed\", \"Thu\", \"Fri\", \"Sat\", \"Sun\"],\n",
    "                            columns=[\"Oolong Tea\", \"Jasmine Tea\", \"Green Tea\", \"Matcha\", \"Hot Cocoa\"])\n",
    "daily_sales"
   ]
  },
  {
   "cell_type": "code",
   "execution_count": 6,
   "id": "92402e68",
   "metadata": {},
   "outputs": [
    {
     "data": {
      "text/plain": [
       "Mon    3741.25\n",
       "Tue    3621.00\n",
       "Wed    4489.00\n",
       "Thu    4373.50\n",
       "Fri    4769.75\n",
       "Sat    2214.00\n",
       "Sun    4725.50\n",
       "dtype: float64"
      ]
     },
     "execution_count": 6,
     "metadata": {},
     "output_type": "execute_result"
    }
   ],
   "source": [
    "# Daily Sales (7,5)\n",
    "# Prices      (5,1)\n",
    "\n",
    "opening_week_sales = daily_sales.dot(prices)\n",
    "\n",
    "opening_week_sales # Type: pandas.core.series.Series"
   ]
  },
  {
   "cell_type": "code",
   "execution_count": 7,
   "id": "39e5fc84",
   "metadata": {},
   "outputs": [
    {
     "data": {
      "text/html": [
       "<div>\n",
       "<style scoped>\n",
       "    .dataframe tbody tr th:only-of-type {\n",
       "        vertical-align: middle;\n",
       "    }\n",
       "\n",
       "    .dataframe tbody tr th {\n",
       "        vertical-align: top;\n",
       "    }\n",
       "\n",
       "    .dataframe thead th {\n",
       "        text-align: right;\n",
       "    }\n",
       "</style>\n",
       "<table border=\"1\" class=\"dataframe\">\n",
       "  <thead>\n",
       "    <tr style=\"text-align: right;\">\n",
       "      <th></th>\n",
       "      <th>Oolong Tea</th>\n",
       "      <th>Jasmine Tea</th>\n",
       "      <th>Green Tea</th>\n",
       "      <th>Matcha</th>\n",
       "      <th>Hot Cocoa</th>\n",
       "      <th>Total ($)</th>\n",
       "    </tr>\n",
       "  </thead>\n",
       "  <tbody>\n",
       "    <tr>\n",
       "      <th>Mon</th>\n",
       "      <td>101</td>\n",
       "      <td>51</td>\n",
       "      <td>224</td>\n",
       "      <td>231</td>\n",
       "      <td>76</td>\n",
       "      <td>3741.25</td>\n",
       "    </tr>\n",
       "    <tr>\n",
       "      <th>Tue</th>\n",
       "      <td>134</td>\n",
       "      <td>139</td>\n",
       "      <td>128</td>\n",
       "      <td>180</td>\n",
       "      <td>80</td>\n",
       "      <td>3621.00</td>\n",
       "    </tr>\n",
       "    <tr>\n",
       "      <th>Wed</th>\n",
       "      <td>90</td>\n",
       "      <td>172</td>\n",
       "      <td>219</td>\n",
       "      <td>193</td>\n",
       "      <td>138</td>\n",
       "      <td>4489.00</td>\n",
       "    </tr>\n",
       "    <tr>\n",
       "      <th>Thu</th>\n",
       "      <td>208</td>\n",
       "      <td>68</td>\n",
       "      <td>237</td>\n",
       "      <td>144</td>\n",
       "      <td>154</td>\n",
       "      <td>4373.50</td>\n",
       "    </tr>\n",
       "    <tr>\n",
       "      <th>Fri</th>\n",
       "      <td>212</td>\n",
       "      <td>140</td>\n",
       "      <td>116</td>\n",
       "      <td>149</td>\n",
       "      <td>243</td>\n",
       "      <td>4769.75</td>\n",
       "    </tr>\n",
       "    <tr>\n",
       "      <th>Sat</th>\n",
       "      <td>97</td>\n",
       "      <td>70</td>\n",
       "      <td>57</td>\n",
       "      <td>92</td>\n",
       "      <td>85</td>\n",
       "      <td>2214.00</td>\n",
       "    </tr>\n",
       "    <tr>\n",
       "      <th>Sun</th>\n",
       "      <td>231</td>\n",
       "      <td>159</td>\n",
       "      <td>247</td>\n",
       "      <td>200</td>\n",
       "      <td>51</td>\n",
       "      <td>4725.50</td>\n",
       "    </tr>\n",
       "  </tbody>\n",
       "</table>\n",
       "</div>"
      ],
      "text/plain": [
       "     Oolong Tea  Jasmine Tea  Green Tea  Matcha  Hot Cocoa  Total ($)\n",
       "Mon         101           51        224     231         76    3741.25\n",
       "Tue         134          139        128     180         80    3621.00\n",
       "Wed          90          172        219     193        138    4489.00\n",
       "Thu         208           68        237     144        154    4373.50\n",
       "Fri         212          140        116     149        243    4769.75\n",
       "Sat          97           70         57      92         85    2214.00\n",
       "Sun         231          159        247     200         51    4725.50"
      ]
     },
     "execution_count": 7,
     "metadata": {},
     "output_type": "execute_result"
    }
   ],
   "source": [
    "daily_sales[\"Total ($)\"] = opening_week_sales\n",
    "daily_sales"
   ]
  }
 ],
 "metadata": {
  "kernelspec": {
   "display_name": "Python 3",
   "language": "python",
   "name": "python3"
  },
  "language_info": {
   "codemirror_mode": {
    "name": "ipython",
    "version": 3
   },
   "file_extension": ".py",
   "mimetype": "text/x-python",
   "name": "python",
   "nbconvert_exporter": "python",
   "pygments_lexer": "ipython3",
   "version": "3.9.2"
  }
 },
 "nbformat": 4,
 "nbformat_minor": 5
}
