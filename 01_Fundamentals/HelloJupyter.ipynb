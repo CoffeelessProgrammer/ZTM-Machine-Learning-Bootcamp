{
 "cells": [
  {
   "cell_type": "markdown",
   "id": "235bde1f",
   "metadata": {},
   "source": [
    "# Hello Jupyter!\n",
    "\n",
    "Let's have a look at some tennis racket data and make observations about string patterns."
   ]
  },
  {
   "cell_type": "code",
   "execution_count": 1,
   "id": "59d811dc",
   "metadata": {},
   "outputs": [],
   "source": [
    "import pandas as pd\n",
    "import matplotlib.pyplot as plt"
   ]
  },
  {
   "cell_type": "code",
   "execution_count": 2,
   "id": "8a60b1bc",
   "metadata": {},
   "outputs": [],
   "source": [
    "rackets = pd.read_csv(\"../data/tennis-rackets.csv\")"
   ]
  },
  {
   "cell_type": "code",
   "execution_count": 3,
   "id": "13607629",
   "metadata": {
    "scrolled": true
   },
   "outputs": [
    {
     "data": {
      "text/html": [
       "<div>\n",
       "<style scoped>\n",
       "    .dataframe tbody tr th:only-of-type {\n",
       "        vertical-align: middle;\n",
       "    }\n",
       "\n",
       "    .dataframe tbody tr th {\n",
       "        vertical-align: top;\n",
       "    }\n",
       "\n",
       "    .dataframe thead th {\n",
       "        text-align: right;\n",
       "    }\n",
       "</style>\n",
       "<table border=\"1\" class=\"dataframe\">\n",
       "  <thead>\n",
       "    <tr style=\"text-align: right;\">\n",
       "      <th></th>\n",
       "      <th>Model</th>\n",
       "      <th>Brand</th>\n",
       "      <th>Price</th>\n",
       "      <th>Mains</th>\n",
       "      <th>Crosses</th>\n",
       "      <th>Head Size (cm_sq)</th>\n",
       "      <th>Length (cm)</th>\n",
       "      <th>Strung Weight (g)</th>\n",
       "    </tr>\n",
       "  </thead>\n",
       "  <tbody>\n",
       "    <tr>\n",
       "      <th>0</th>\n",
       "      <td>TFight 315 RS</td>\n",
       "      <td>Technifibre</td>\n",
       "      <td>229.0</td>\n",
       "      <td>16</td>\n",
       "      <td>19</td>\n",
       "      <td>632.26</td>\n",
       "      <td>68.58</td>\n",
       "      <td>332</td>\n",
       "    </tr>\n",
       "    <tr>\n",
       "      <th>1</th>\n",
       "      <td>Pure Strike 18x20 3rd Gen</td>\n",
       "      <td>Babolat</td>\n",
       "      <td>219.0</td>\n",
       "      <td>18</td>\n",
       "      <td>20</td>\n",
       "      <td>632.26</td>\n",
       "      <td>68.58</td>\n",
       "      <td>323</td>\n",
       "    </tr>\n",
       "    <tr>\n",
       "      <th>2</th>\n",
       "      <td>Pure Drive Plus 2021</td>\n",
       "      <td>Babolat</td>\n",
       "      <td>229.0</td>\n",
       "      <td>16</td>\n",
       "      <td>19</td>\n",
       "      <td>645.16</td>\n",
       "      <td>69.85</td>\n",
       "      <td>318</td>\n",
       "    </tr>\n",
       "    <tr>\n",
       "      <th>3</th>\n",
       "      <td>Pro Staff RF97 v13</td>\n",
       "      <td>Wilson</td>\n",
       "      <td>249.0</td>\n",
       "      <td>16</td>\n",
       "      <td>19</td>\n",
       "      <td>625.81</td>\n",
       "      <td>68.58</td>\n",
       "      <td>357</td>\n",
       "    </tr>\n",
       "    <tr>\n",
       "      <th>4</th>\n",
       "      <td>Triad Five</td>\n",
       "      <td>Wilson</td>\n",
       "      <td>169.0</td>\n",
       "      <td>16</td>\n",
       "      <td>20</td>\n",
       "      <td>664.51</td>\n",
       "      <td>69.22</td>\n",
       "      <td>283</td>\n",
       "    </tr>\n",
       "    <tr>\n",
       "      <th>5</th>\n",
       "      <td>Hyper Hammer 5.3 Stretch OS</td>\n",
       "      <td>Wilson</td>\n",
       "      <td>99.0</td>\n",
       "      <td>16</td>\n",
       "      <td>20</td>\n",
       "      <td>709.68</td>\n",
       "      <td>69.85</td>\n",
       "      <td>255</td>\n",
       "    </tr>\n",
       "    <tr>\n",
       "      <th>6</th>\n",
       "      <td>Graphene 360+ Instinct PWR</td>\n",
       "      <td>Head</td>\n",
       "      <td>189.0</td>\n",
       "      <td>16</td>\n",
       "      <td>19</td>\n",
       "      <td>741.93</td>\n",
       "      <td>70.36</td>\n",
       "      <td>244</td>\n",
       "    </tr>\n",
       "  </tbody>\n",
       "</table>\n",
       "</div>"
      ],
      "text/plain": [
       "                         Model        Brand  Price  Mains  Crosses  \\\n",
       "0                TFight 315 RS  Technifibre  229.0     16       19   \n",
       "1    Pure Strike 18x20 3rd Gen      Babolat  219.0     18       20   \n",
       "2         Pure Drive Plus 2021      Babolat  229.0     16       19   \n",
       "3           Pro Staff RF97 v13       Wilson  249.0     16       19   \n",
       "4                   Triad Five       Wilson  169.0     16       20   \n",
       "5  Hyper Hammer 5.3 Stretch OS       Wilson   99.0     16       20   \n",
       "6   Graphene 360+ Instinct PWR         Head  189.0     16       19   \n",
       "\n",
       "   Head Size (cm_sq)  Length (cm)  Strung Weight (g)  \n",
       "0             632.26        68.58                332  \n",
       "1             632.26        68.58                323  \n",
       "2             645.16        69.85                318  \n",
       "3             625.81        68.58                357  \n",
       "4             664.51        69.22                283  \n",
       "5             709.68        69.85                255  \n",
       "6             741.93        70.36                244  "
      ]
     },
     "execution_count": 3,
     "metadata": {},
     "output_type": "execute_result"
    }
   ],
   "source": [
    "rackets.head(10)"
   ]
  },
  {
   "cell_type": "markdown",
   "id": "b6b81a67",
   "metadata": {},
   "source": [
    "**Which 'cross' count is more frequent, 19 or 20?**"
   ]
  },
  {
   "cell_type": "code",
   "execution_count": 4,
   "id": "213a8714",
   "metadata": {},
   "outputs": [
    {
     "data": {
      "text/plain": [
       "<AxesSubplot:>"
      ]
     },
     "execution_count": 4,
     "metadata": {},
     "output_type": "execute_result"
    },
    {
     "data": {
      "image/png": "[encoded data removed]",
      "text/plain": [
       "<Figure size 432x288 with 1 Axes>"
      ]
     },
     "metadata": {
      "needs_background": "light"
     },
     "output_type": "display_data"
    }
   ],
   "source": [
    "rackets[\"Crosses\"].value_counts().plot(kind=\"bar\")"
   ]
  },
  {
   "cell_type": "markdown",
   "id": "da9eedc0",
   "metadata": {},
   "source": [
    "**A cross count of 19 seems to occur slightly more frequently. What is the most frequent stringing pattern if we compare both crosses and mains?**"
   ]
  },
  {
   "cell_type": "code",
   "execution_count": 5,
   "id": "ffb79198",
   "metadata": {},
   "outputs": [
    {
     "data": {
      "text/plain": [
       "<AxesSubplot:xlabel='Mains,Crosses'>"
      ]
     },
     "execution_count": 5,
     "metadata": {},
     "output_type": "execute_result"
    },
    {
     "data": {
      "image/png": "[encoded data removed]",
      "text/plain": [
       "<Figure size 432x288 with 1 Axes>"
      ]
     },
     "metadata": {
      "needs_background": "light"
     },
     "output_type": "display_data"
    }
   ],
   "source": [
    "rackets.value_counts([\"Mains\", \"Crosses\"]).plot(kind=\"bar\")"
   ]
  },
  {
   "cell_type": "markdown",
   "id": "1a9f8c87",
   "metadata": {},
   "source": [
    "**16x19 seems to win by a significant margin, while 18x20 seems rather rare. Perhaps this is a result of our small sample size.**"
   ]
  }
 ],
 "metadata": {
  "kernelspec": {
   "display_name": "Python 3",
   "language": "python",
   "name": "python3"
  },
  "language_info": {
   "codemirror_mode": {
    "name": "ipython",
    "version": 3
   },
   "file_extension": ".py",
   "mimetype": "text/x-python",
   "name": "python",
   "nbconvert_exporter": "python",
   "pygments_lexer": "ipython3",
   "version": "3.9.2"
  }
 },
 "nbformat": 4,
 "nbformat_minor": 5
}
