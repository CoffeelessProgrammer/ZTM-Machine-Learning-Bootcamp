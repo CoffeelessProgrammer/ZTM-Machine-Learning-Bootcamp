{
 "cells": [
  {
   "cell_type": "markdown",
   "id": "69b44b6a",
   "metadata": {},
   "source": [
    "# Intro to NumPy"
   ]
  },
  {
   "cell_type": "code",
   "execution_count": 1,
   "id": "d68fdd5f",
   "metadata": {},
   "outputs": [],
   "source": [
    "import numpy as np\n",
    "import pandas as pd\n",
    "import matplotlib.pyplot as plt"
   ]
  },
  {
   "cell_type": "markdown",
   "id": "3e19378d",
   "metadata": {},
   "source": [
    "## 1. DataTypes\n",
    "\n",
    "- NumPy's main datatype is **ndarray**\n",
    "    - This type applies to numpy arrays of any dimension\n",
    "    \n",
    "### Ndarray Attributes\n",
    "\n",
    "- ndim – dimension count\n",
    "- shape – num elements in each sub-dimension\n",
    "- size – element count\n",
    "- dtype – type of data stored"
   ]
  },
  {
   "cell_type": "code",
   "execution_count": 2,
   "id": "8bebf165",
   "metadata": {},
   "outputs": [
    {
     "data": {
      "text/plain": [
       "array([1, 2, 3])"
      ]
     },
     "execution_count": 2,
     "metadata": {},
     "output_type": "execute_result"
    }
   ],
   "source": [
    "arr_1d = np.array([1, 2, 3]) # Shape = (1,3)\n",
    "arr_1d"
   ]
  },
  {
   "cell_type": "code",
   "execution_count": 3,
   "id": "a1439265",
   "metadata": {},
   "outputs": [],
   "source": [
    "arr_2d = np.array([[1, 2.0, 3.3],\n",
    "                   [4, 5, 6.5]]) # Shape = (2,3)\n",
    "\n",
    "arr_3d = np.array([[[1, 2, 3],\n",
    "                    [4, 5, 6],\n",
    "                    [7, 8, 9],\n",
    "                    [1, 2, 3]],\n",
    "                   [[10, 11, 12],\n",
    "                    [13, 14, 15],\n",
    "                    [16, 17, 18],\n",
    "                    [10, 11, 12]]]) # Shape = (2,4,3)"
   ]
  },
  {
   "cell_type": "code",
   "execution_count": 4,
   "id": "02095629",
   "metadata": {},
   "outputs": [
    {
     "data": {
      "text/plain": [
       "(numpy.ndarray, numpy.ndarray)"
      ]
     },
     "execution_count": 4,
     "metadata": {},
     "output_type": "execute_result"
    }
   ],
   "source": [
    "type(arr_1d), type(arr_3d)"
   ]
  },
  {
   "cell_type": "code",
   "execution_count": 5,
   "id": "c2c22a32",
   "metadata": {},
   "outputs": [
    {
     "data": {
      "text/plain": [
       "(3,)"
      ]
     },
     "execution_count": 5,
     "metadata": {},
     "output_type": "execute_result"
    }
   ],
   "source": [
    "arr_1d.shape"
   ]
  },
  {
   "cell_type": "code",
   "execution_count": 6,
   "id": "edcb02b8",
   "metadata": {},
   "outputs": [
    {
     "data": {
      "text/plain": [
       "(2, 4, 3)"
      ]
     },
     "execution_count": 6,
     "metadata": {},
     "output_type": "execute_result"
    }
   ],
   "source": [
    "arr_3d.shape"
   ]
  },
  {
   "cell_type": "code",
   "execution_count": 7,
   "id": "92ce8580",
   "metadata": {},
   "outputs": [
    {
     "data": {
      "text/plain": [
       "(1, 2)"
      ]
     },
     "execution_count": 7,
     "metadata": {},
     "output_type": "execute_result"
    }
   ],
   "source": [
    "arr_1d.ndim, arr_2d.ndim"
   ]
  },
  {
   "cell_type": "code",
   "execution_count": 8,
   "id": "217e8950",
   "metadata": {},
   "outputs": [
    {
     "data": {
      "text/plain": [
       "(3, 6, 24)"
      ]
     },
     "execution_count": 8,
     "metadata": {},
     "output_type": "execute_result"
    }
   ],
   "source": [
    "arr_1d.size, arr_2d.size, arr_3d.size"
   ]
  },
  {
   "cell_type": "code",
   "execution_count": 9,
   "id": "e351e2b2",
   "metadata": {},
   "outputs": [
    {
     "data": {
      "text/plain": [
       "(dtype('float64'), dtype('int32'))"
      ]
     },
     "execution_count": 9,
     "metadata": {},
     "output_type": "execute_result"
    }
   ],
   "source": [
    "arr_2d.dtype, arr_3d.dtype"
   ]
  },
  {
   "cell_type": "markdown",
   "id": "facffb93",
   "metadata": {},
   "source": [
    "## 2. Creating Arrays\n",
    "\n",
    "### Basics\n",
    "\n",
    "#### np.ones(shape, dtype=None)\n",
    "- Return a new array of given shape & type, filled with ones\n",
    "    \n",
    "#### np.zeroes(shape, dtype=None)\n",
    "- Return a new array of given shape & type, filled with zeroes\n",
    "\n",
    "#### np.arange(\\[start,\\] stop\\[, step,\\], dtype=None)\n",
    "- Return evenly spaced values within a given interval\n",
    "- `stop` is exclusive"
   ]
  },
  {
   "cell_type": "code",
   "execution_count": 10,
   "id": "32b54ec2",
   "metadata": {},
   "outputs": [
    {
     "data": {
      "text/plain": [
       "array([1, 1, 1])"
      ]
     },
     "execution_count": 10,
     "metadata": {},
     "output_type": "execute_result"
    }
   ],
   "source": [
    "ones = np.ones((3), dtype='int32')\n",
    "ones"
   ]
  },
  {
   "cell_type": "code",
   "execution_count": 11,
   "id": "8e482345",
   "metadata": {},
   "outputs": [
    {
     "data": {
      "text/plain": [
       "(numpy.ndarray, dtype('int32'))"
      ]
     },
     "execution_count": 11,
     "metadata": {},
     "output_type": "execute_result"
    }
   ],
   "source": [
    "type(ones), ones.dtype"
   ]
  },
  {
   "cell_type": "code",
   "execution_count": 12,
   "id": "29fd8ce9",
   "metadata": {},
   "outputs": [
    {
     "data": {
      "text/plain": [
       "array([0, 2, 4, 6, 8])"
      ]
     },
     "execution_count": 12,
     "metadata": {},
     "output_type": "execute_result"
    }
   ],
   "source": [
    "arr_range = np.arange(0, 10, 2)\n",
    "arr_range"
   ]
  },
  {
   "cell_type": "markdown",
   "id": "0ccd9c8c",
   "metadata": {},
   "source": [
    "### Random Numbers\n",
    "\n",
    "#### np.random.randint(low, high=None, size=None, dtype='l')\n",
    "- Return random integers from `low` (inc) to `high` (exc)\n",
    "- `size` means shape\n",
    "- `low` param is optional, default 0\n",
    "\n",
    "#### np.random.random(size=None)\n",
    "- Return random floats in the half-open interval `[0.0, 0.1)`\n",
    "\n",
    "#### np.random.rand(d0, d1, ..., dn)\n",
    "- Return random values in a given shape"
   ]
  },
  {
   "cell_type": "code",
   "execution_count": 13,
   "id": "db5460b7",
   "metadata": {},
   "outputs": [
    {
     "data": {
      "text/plain": [
       "array([[8, 8, 8, 8, 5],\n",
       "       [6, 9, 3, 9, 9],\n",
       "       [1, 2, 9, 9, 9]])"
      ]
     },
     "execution_count": 13,
     "metadata": {},
     "output_type": "execute_result"
    }
   ],
   "source": [
    "arr_rand = np.random.randint(0, 10, size=(3, 5))\n",
    "arr_rand"
   ]
  },
  {
   "cell_type": "code",
   "execution_count": 14,
   "id": "1e95e3e9",
   "metadata": {},
   "outputs": [
    {
     "data": {
      "text/plain": [
       "('Elements: 15', 'Shape: (3, 5)')"
      ]
     },
     "execution_count": 14,
     "metadata": {},
     "output_type": "execute_result"
    }
   ],
   "source": [
    "\"Elements: \" + str(arr_rand.size), \"Shape: \" + str(arr_rand.shape)"
   ]
  },
  {
   "cell_type": "code",
   "execution_count": 15,
   "id": "12b1e0cb",
   "metadata": {},
   "outputs": [
    {
     "data": {
      "text/plain": [
       "array([[0.77476891, 0.59285154],\n",
       "       [0.37936252, 0.22070625],\n",
       "       [0.85267978, 0.82480569],\n",
       "       [0.15193611, 0.9084882 ]])"
      ]
     },
     "execution_count": 15,
     "metadata": {},
     "output_type": "execute_result"
    }
   ],
   "source": [
    "arr_rand2 = np.random.random((4,2))\n",
    "arr_rand2"
   ]
  },
  {
   "cell_type": "code",
   "execution_count": 16,
   "id": "56453370",
   "metadata": {},
   "outputs": [
    {
     "data": {
      "text/plain": [
       "array([[0.70077868, 0.38643371],\n",
       "       [0.5086054 , 0.45856735],\n",
       "       [0.76164805, 0.01281061],\n",
       "       [0.07035427, 0.40050648]])"
      ]
     },
     "execution_count": 16,
     "metadata": {},
     "output_type": "execute_result"
    }
   ],
   "source": [
    "arr_rand3 = np.random.rand(4,2)\n",
    "arr_rand3"
   ]
  },
  {
   "cell_type": "markdown",
   "id": "435614c9",
   "metadata": {},
   "source": [
    "### Random Seed\n",
    "\n",
    "#### np.random.seed(seed=None)\n",
    "- A seed allows reproducible randomness, useful when sharing the notebook\n",
    "- A defined seed only applies to the cell its declared in"
   ]
  },
  {
   "cell_type": "code",
   "execution_count": 17,
   "id": "868ea608",
   "metadata": {},
   "outputs": [
    {
     "data": {
      "text/plain": [
       "array([[ 6, 19, 14, 10,  7, 20,  6, 18, 10, 10],\n",
       "       [20,  3,  7,  2, 20,  1, 11,  5,  1, 20]])"
      ]
     },
     "execution_count": 17,
     "metadata": {},
     "output_type": "execute_result"
    }
   ],
   "source": [
    "np.random.seed(42)\n",
    "arr_rand4 = np.random.randint(21, size=(2,10))\n",
    "arr_rand4"
   ]
  },
  {
   "cell_type": "markdown",
   "id": "8e743afe",
   "metadata": {},
   "source": [
    "## 3. Viewing Arrays & Matrices\n",
    "\n",
    "**Matrix** – an array with 2+ dimensions\n",
    "\n",
    "Access matrix elements by index via square brackets, e.g. `arr[index_d0, index_d1]`\n",
    "\n",
    "#### np.unique(ndarray)\n",
    "- Return the unique elements as a (sorted?) array\n",
    "- Works on ndarray of any shape"
   ]
  },
  {
   "cell_type": "code",
   "execution_count": 18,
   "id": "1eb170f9",
   "metadata": {},
   "outputs": [
    {
     "data": {
      "text/plain": [
       "array([ 1,  2,  3,  5,  6,  7, 10, 11, 14, 18, 19, 20])"
      ]
     },
     "execution_count": 18,
     "metadata": {},
     "output_type": "execute_result"
    }
   ],
   "source": [
    "np.unique(arr_rand4)"
   ]
  },
  {
   "cell_type": "code",
   "execution_count": 19,
   "id": "156d3fbc",
   "metadata": {},
   "outputs": [
    {
     "data": {
      "text/plain": [
       "(array([[[ 1,  2,  3],\n",
       "         [ 4,  5,  6],\n",
       "         [ 7,  8,  9],\n",
       "         [ 1,  2,  3]],\n",
       " \n",
       "        [[10, 11, 12],\n",
       "         [13, 14, 15],\n",
       "         [16, 17, 18],\n",
       "         [10, 11, 12]]]),\n",
       " 8)"
      ]
     },
     "execution_count": 19,
     "metadata": {},
     "output_type": "execute_result"
    }
   ],
   "source": [
    "arr_3d, arr_3d[0,2,1]"
   ]
  },
  {
   "cell_type": "code",
   "execution_count": 20,
   "id": "2641f2e6",
   "metadata": {},
   "outputs": [
    {
     "data": {
      "text/plain": [
       "(array([20,  3,  7,  2, 20,  1, 11,  5,  1, 20]), 20)"
      ]
     },
     "execution_count": 20,
     "metadata": {},
     "output_type": "execute_result"
    }
   ],
   "source": [
    "arr_rand4[1], arr_rand4[1,4]"
   ]
  },
  {
   "cell_type": "code",
   "execution_count": 21,
   "id": "a1a8836e",
   "metadata": {},
   "outputs": [
    {
     "data": {
      "text/plain": [
       "array([[[ 5,  6],\n",
       "        [ 8,  9]],\n",
       "\n",
       "       [[14, 15],\n",
       "        [17, 18]]])"
      ]
     },
     "execution_count": 21,
     "metadata": {},
     "output_type": "execute_result"
    }
   ],
   "source": [
    "arr_3d[:2, 1:3, 1:] # Slicing also works on ndarrays"
   ]
  },
  {
   "cell_type": "code",
   "execution_count": 22,
   "id": "05405fb2",
   "metadata": {},
   "outputs": [
    {
     "data": {
      "text/plain": [
       "array([[[[0, 9, 5, 8, 0],\n",
       "         [9, 2, 6, 3, 8],\n",
       "         [2, 4, 2, 6, 4],\n",
       "         [8, 6, 1, 3, 8]],\n",
       "\n",
       "        [[1, 9, 8, 9, 4],\n",
       "         [1, 3, 6, 7, 2],\n",
       "         [0, 3, 1, 7, 3],\n",
       "         [1, 5, 5, 9, 3]],\n",
       "\n",
       "        [[5, 1, 9, 1, 9],\n",
       "         [3, 7, 6, 8, 7],\n",
       "         [4, 1, 4, 7, 9],\n",
       "         [8, 8, 0, 8, 6]]],\n",
       "\n",
       "\n",
       "       [[[8, 7, 0, 7, 7],\n",
       "         [2, 0, 7, 2, 2],\n",
       "         [0, 4, 9, 6, 9],\n",
       "         [8, 6, 8, 7, 1]],\n",
       "\n",
       "        [[0, 6, 6, 7, 4],\n",
       "         [2, 7, 5, 2, 0],\n",
       "         [2, 4, 2, 0, 4],\n",
       "         [9, 6, 6, 8, 9]],\n",
       "\n",
       "        [[9, 2, 6, 0, 3],\n",
       "         [3, 4, 6, 6, 3],\n",
       "         [6, 2, 5, 1, 9],\n",
       "         [8, 4, 5, 3, 9]]]])"
      ]
     },
     "execution_count": 22,
     "metadata": {},
     "output_type": "execute_result"
    }
   ],
   "source": [
    "arr_rand5 = np.random.randint(10, size=(2,3,4,5))\n",
    "arr_rand5"
   ]
  },
  {
   "cell_type": "markdown",
   "id": "2af0ee1f",
   "metadata": {},
   "source": [
    "### How would we get the center 3 numbers of the innermost arrays?"
   ]
  },
  {
   "cell_type": "code",
   "execution_count": 23,
   "id": "08d4f04e",
   "metadata": {},
   "outputs": [
    {
     "data": {
      "text/plain": [
       "array([[[[9, 5, 8],\n",
       "         [2, 6, 3],\n",
       "         [4, 2, 6],\n",
       "         [6, 1, 3]],\n",
       "\n",
       "        [[9, 8, 9],\n",
       "         [3, 6, 7],\n",
       "         [3, 1, 7],\n",
       "         [5, 5, 9]],\n",
       "\n",
       "        [[1, 9, 1],\n",
       "         [7, 6, 8],\n",
       "         [1, 4, 7],\n",
       "         [8, 0, 8]]],\n",
       "\n",
       "\n",
       "       [[[7, 0, 7],\n",
       "         [0, 7, 2],\n",
       "         [4, 9, 6],\n",
       "         [6, 8, 7]],\n",
       "\n",
       "        [[6, 6, 7],\n",
       "         [7, 5, 2],\n",
       "         [4, 2, 0],\n",
       "         [6, 6, 8]],\n",
       "\n",
       "        [[2, 6, 0],\n",
       "         [4, 6, 6],\n",
       "         [2, 5, 1],\n",
       "         [4, 5, 3]]]])"
      ]
     },
     "execution_count": 23,
     "metadata": {},
     "output_type": "execute_result"
    }
   ],
   "source": [
    "arr_rand5[:, :, :, 1:4]"
   ]
  },
  {
   "cell_type": "markdown",
   "id": "8e9d1acc",
   "metadata": {},
   "source": [
    "## 4. Manipulating & Comparing Arrays\n",
    "\n",
    "\n",
    "\n",
    "### Broadcasting Rules\n",
    "\n",
    "When operating on two arrays, NumPy compares their shapes element-wise. It starts with the trailing (i.e. rightmost) dimensions and works its way left. Two dimensions are compatible when:\n",
    "- they are equal, or\n",
    "- one of them is 1\n",
    "\n",
    "### NumPy Docs\n",
    "- [Broadcasting](https://numpy.org/doc/stable/user/basics.broadcasting.html)\n",
    "- [Reshaping Data](https://numpy.org/doc/stable/reference/generated/numpy.reshape.html)"
   ]
  },
  {
   "cell_type": "markdown",
   "id": "9f6c43df",
   "metadata": {},
   "source": [
    "### Arithmetic"
   ]
  },
  {
   "cell_type": "code",
   "execution_count": 24,
   "id": "e69a0e64",
   "metadata": {},
   "outputs": [],
   "source": [
    "arr_sm1 = np.array([9, 4, 6, 5])\n",
    "arr_sm2 = np.array([2, 2, 5, 3])"
   ]
  },
  {
   "cell_type": "code",
   "execution_count": 25,
   "id": "826cad70",
   "metadata": {},
   "outputs": [
    {
     "data": {
      "text/plain": [
       "array([11,  6, 11,  8])"
      ]
     },
     "execution_count": 25,
     "metadata": {},
     "output_type": "execute_result"
    }
   ],
   "source": [
    "arr_sm1 + arr_sm2"
   ]
  },
  {
   "cell_type": "code",
   "execution_count": 26,
   "id": "cce01bab",
   "metadata": {},
   "outputs": [
    {
     "data": {
      "text/plain": [
       "array([7, 2, 1, 2])"
      ]
     },
     "execution_count": 26,
     "metadata": {},
     "output_type": "execute_result"
    }
   ],
   "source": [
    "arr_sm1 - arr_sm2"
   ]
  },
  {
   "cell_type": "code",
   "execution_count": 27,
   "id": "2dbdb9da",
   "metadata": {},
   "outputs": [
    {
     "data": {
      "text/plain": [
       "array([18,  8, 30, 15])"
      ]
     },
     "execution_count": 27,
     "metadata": {},
     "output_type": "execute_result"
    }
   ],
   "source": [
    "arr_sm1 * arr_sm2"
   ]
  },
  {
   "cell_type": "code",
   "execution_count": 28,
   "id": "a7118d2e",
   "metadata": {},
   "outputs": [
    {
     "data": {
      "text/plain": [
       "array([[4, 5, 2, 6],\n",
       "       [9, 4, 9, 1]])"
      ]
     },
     "execution_count": 28,
     "metadata": {},
     "output_type": "execute_result"
    }
   ],
   "source": [
    "np.random.seed(8)\n",
    "arr_md = np.random.randint(1, 10, size=(2,4))\n",
    "arr_md"
   ]
  },
  {
   "cell_type": "code",
   "execution_count": 29,
   "id": "96519f5f",
   "metadata": {},
   "outputs": [
    {
     "data": {
      "text/plain": [
       "array([[36, 20, 12, 30],\n",
       "       [81, 16, 54,  5]])"
      ]
     },
     "execution_count": 29,
     "metadata": {},
     "output_type": "execute_result"
    }
   ],
   "source": [
    "arr_sm1 * arr_md"
   ]
  },
  {
   "cell_type": "code",
   "execution_count": 30,
   "id": "7efc3d49",
   "metadata": {},
   "outputs": [
    {
     "data": {
      "text/plain": [
       "array([[2.25      , 0.8       , 3.        , 0.83333333],\n",
       "       [1.        , 1.        , 0.66666667, 5.        ]])"
      ]
     },
     "execution_count": 30,
     "metadata": {},
     "output_type": "execute_result"
    }
   ],
   "source": [
    "arr_sm1 / arr_md"
   ]
  },
  {
   "cell_type": "code",
   "execution_count": 31,
   "id": "f1ad7a73",
   "metadata": {},
   "outputs": [
    {
     "data": {
      "text/plain": [
       "array([[2, 0, 3, 0],\n",
       "       [1, 1, 0, 5]], dtype=int32)"
      ]
     },
     "execution_count": 31,
     "metadata": {},
     "output_type": "execute_result"
    }
   ],
   "source": [
    "arr_sm1 // arr_md # Double slash means floor division"
   ]
  },
  {
   "cell_type": "code",
   "execution_count": 32,
   "id": "fc9582bf",
   "metadata": {},
   "outputs": [
    {
     "data": {
      "text/plain": [
       "array([[16, 25,  4, 36],\n",
       "       [81, 16, 81,  1]], dtype=int32)"
      ]
     },
     "execution_count": 32,
     "metadata": {},
     "output_type": "execute_result"
    }
   ],
   "source": [
    "arr_md ** 2 # Double asterisk means 'power of'"
   ]
  },
  {
   "cell_type": "code",
   "execution_count": 33,
   "id": "e1016fd8",
   "metadata": {},
   "outputs": [
    {
     "data": {
      "text/plain": [
       "array([[1, 2, 2, 0],\n",
       "       [0, 1, 0, 1]], dtype=int32)"
      ]
     },
     "execution_count": 33,
     "metadata": {},
     "output_type": "execute_result"
    }
   ],
   "source": [
    "arr_md % 3"
   ]
  },
  {
   "cell_type": "markdown",
   "id": "cb20c722",
   "metadata": {},
   "source": [
    "### Aggregation\n",
    "\n",
    "Aggregation – performing a collective operation on a group of numbers/items\n",
    "\n",
    "#### NumPy Aggregation Functions\n",
    "- np.sum()\n",
    "- np.mean()\n",
    "- np.min()\n",
    "- np.max()"
   ]
  },
  {
   "cell_type": "code",
   "execution_count": 34,
   "id": "42087d4e",
   "metadata": {},
   "outputs": [
    {
     "data": {
      "text/plain": [
       "10"
      ]
     },
     "execution_count": 34,
     "metadata": {},
     "output_type": "execute_result"
    }
   ],
   "source": [
    "list_py = [2, 1, 3, 4]\n",
    "sum(list_py)"
   ]
  },
  {
   "cell_type": "code",
   "execution_count": 35,
   "id": "4c3c5770",
   "metadata": {},
   "outputs": [
    {
     "data": {
      "text/plain": [
       "24"
      ]
     },
     "execution_count": 35,
     "metadata": {},
     "output_type": "execute_result"
    }
   ],
   "source": [
    "# arr_sm1 = np.array([9, 4, 6, 5])\n",
    "\n",
    "np.sum(arr_sm1)"
   ]
  },
  {
   "cell_type": "code",
   "execution_count": 36,
   "id": "3ff23457",
   "metadata": {},
   "outputs": [
    {
     "data": {
      "text/plain": [
       "array([0.61203333, 0.76606293, 0.40192511, 0.87208858, 0.9264384 ,\n",
       "       0.14652468, 0.70152791, 0.40267737, 0.81826598, 0.02128132])"
      ]
     },
     "execution_count": 36,
     "metadata": {},
     "output_type": "execute_result"
    }
   ],
   "source": [
    "arr_massive = np.random.random(100000)\n",
    "arr_massive[:10]"
   ]
  },
  {
   "cell_type": "code",
   "execution_count": 37,
   "id": "2fb71531",
   "metadata": {},
   "outputs": [
    {
     "name": "stdout",
     "output_type": "stream",
     "text": [
      "30.5 ms ± 4.82 ms per loop (mean ± std. dev. of 7 runs, 10 loops each)\n",
      "83.6 µs ± 2.68 µs per loop (mean ± std. dev. of 7 runs, 10000 loops each)\n"
     ]
    }
   ],
   "source": [
    "%timeit sum(arr_massive) # Python's sum()\n",
    "%timeit np.sum(arr_massive) # NumPy's np.sum()"
   ]
  },
  {
   "cell_type": "markdown",
   "id": "32aad4dd",
   "metadata": {},
   "source": [
    "### Standard Deviation & Variance\n",
    "\n",
    "- **Variance** – the average of the squared differences from the Mean\n",
    "- **Standard Deviation (σ)** – a measure of how spread out numbers are\n",
    "    - σ = √(Variance)\n",
    "\n",
    "#### NumPy Functions\n",
    "- np.var()\n",
    "- np.std()\n",
    "\n",
    "[Explanation of Standard Deviation](https://www.mathsisfun.com/data/standard-deviation.html)"
   ]
  },
  {
   "cell_type": "markdown",
   "id": "799a8679",
   "metadata": {},
   "source": [
    "## 4a. Reshaping & Transposing\n",
    "\n",
    "- np.reshape()\n",
    "- arr.reshape()\n",
    "- arr.T\n",
    "    - Transposing switches the axes of the array\n",
    "    \n",
    "[NumPy Docs: Reshape](https://numpy.org/doc/stable/reference/generated/numpy.reshape.html)"
   ]
  },
  {
   "cell_type": "code",
   "execution_count": 38,
   "id": "65fe44cb",
   "metadata": {},
   "outputs": [
    {
     "data": {
      "text/plain": [
       "array([[1. , 2. , 3.3],\n",
       "       [4. , 5. , 6.5]])"
      ]
     },
     "execution_count": 38,
     "metadata": {},
     "output_type": "execute_result"
    }
   ],
   "source": [
    "arr_2d"
   ]
  },
  {
   "cell_type": "code",
   "execution_count": 39,
   "id": "c1bdb0fc",
   "metadata": {},
   "outputs": [
    {
     "data": {
      "text/plain": [
       "array([[[1. ],\n",
       "        [2. ],\n",
       "        [3.3]],\n",
       "\n",
       "       [[4. ],\n",
       "        [5. ],\n",
       "        [6.5]]])"
      ]
     },
     "execution_count": 39,
     "metadata": {},
     "output_type": "execute_result"
    }
   ],
   "source": [
    "arr_2d.reshape(2,3,1)"
   ]
  },
  {
   "cell_type": "code",
   "execution_count": 40,
   "id": "a45ab74a",
   "metadata": {},
   "outputs": [
    {
     "data": {
      "text/plain": [
       "array([[1. , 4. ],\n",
       "       [2. , 5. ],\n",
       "       [3.3, 6.5]])"
      ]
     },
     "execution_count": 40,
     "metadata": {},
     "output_type": "execute_result"
    }
   ],
   "source": [
    "arr_2d.T"
   ]
  },
  {
   "cell_type": "code",
   "execution_count": 41,
   "id": "a0ed9ce6",
   "metadata": {},
   "outputs": [
    {
     "data": {
      "text/plain": [
       "array([[[ 1,  2,  3],\n",
       "        [ 4,  5,  6],\n",
       "        [ 7,  8,  9],\n",
       "        [ 1,  2,  3]],\n",
       "\n",
       "       [[10, 11, 12],\n",
       "        [13, 14, 15],\n",
       "        [16, 17, 18],\n",
       "        [10, 11, 12]]])"
      ]
     },
     "execution_count": 41,
     "metadata": {},
     "output_type": "execute_result"
    }
   ],
   "source": [
    "arr_3d # shape(2,4,3)"
   ]
  },
  {
   "cell_type": "code",
   "execution_count": 42,
   "id": "9ed9706e",
   "metadata": {},
   "outputs": [
    {
     "data": {
      "text/plain": [
       "array([[[ 1, 10],\n",
       "        [ 4, 13],\n",
       "        [ 7, 16],\n",
       "        [ 1, 10]],\n",
       "\n",
       "       [[ 2, 11],\n",
       "        [ 5, 14],\n",
       "        [ 8, 17],\n",
       "        [ 2, 11]],\n",
       "\n",
       "       [[ 3, 12],\n",
       "        [ 6, 15],\n",
       "        [ 9, 18],\n",
       "        [ 3, 12]]])"
      ]
     },
     "execution_count": 42,
     "metadata": {},
     "output_type": "execute_result"
    }
   ],
   "source": [
    "arr_3d.T # shape(3,4,2)"
   ]
  },
  {
   "cell_type": "markdown",
   "id": "9b082b9a",
   "metadata": {},
   "source": [
    "## 4b. Element Wise Ops vs. Dot Product\n",
    "\n",
    "- Element-wise (Hadamard) Product\n",
    "- Dot Product\n",
    "\n",
    "### Resources\n",
    "- [Matrix Multiplication Explained](https://www.mathsisfun.com/algebra/matrix-multiplying.html)\n",
    "- [Matrix Multiplication Waterfall Method](http://matrixmultiplication.xyz/)"
   ]
  },
  {
   "cell_type": "code",
   "execution_count": 43,
   "id": "bbbec4a1",
   "metadata": {},
   "outputs": [
    {
     "data": {
      "text/plain": [
       "array([[6, 3, 7],\n",
       "       [4, 6, 9],\n",
       "       [2, 6, 7],\n",
       "       [4, 3, 7],\n",
       "       [7, 2, 5]])"
      ]
     },
     "execution_count": 43,
     "metadata": {},
     "output_type": "execute_result"
    }
   ],
   "source": [
    "np.random.seed(42)\n",
    "\n",
    "mtrx_sm1 = np.random.randint(10, size=(5,3))\n",
    "mtrx_sm2 = np.random.randint(10, size=(5,3))\n",
    "\n",
    "mtrx_sm1"
   ]
  },
  {
   "cell_type": "code",
   "execution_count": 44,
   "id": "3ffe5115",
   "metadata": {},
   "outputs": [
    {
     "data": {
      "text/plain": [
       "array([[4, 1, 7],\n",
       "       [5, 1, 4],\n",
       "       [0, 9, 5],\n",
       "       [8, 0, 9],\n",
       "       [2, 6, 3]])"
      ]
     },
     "execution_count": 44,
     "metadata": {},
     "output_type": "execute_result"
    }
   ],
   "source": [
    "mtrx_sm2"
   ]
  },
  {
   "cell_type": "code",
   "execution_count": 45,
   "id": "04a42f28",
   "metadata": {},
   "outputs": [
    {
     "data": {
      "text/plain": [
       "array([[24,  3, 49],\n",
       "       [20,  6, 36],\n",
       "       [ 0, 54, 35],\n",
       "       [32,  0, 63],\n",
       "       [14, 12, 15]])"
      ]
     },
     "execution_count": 45,
     "metadata": {},
     "output_type": "execute_result"
    }
   ],
   "source": [
    "# Element-wise\n",
    "mtrx_sm1 * mtrx_sm2"
   ]
  },
  {
   "cell_type": "code",
   "execution_count": 46,
   "id": "35363b79",
   "metadata": {},
   "outputs": [
    {
     "data": {
      "text/plain": [
       "array([[ 76,  61,  62, 111,  51],\n",
       "       [ 85,  62,  99, 113,  71],\n",
       "       [ 63,  44,  89,  79,  61],\n",
       "       [ 68,  51,  62,  95,  47],\n",
       "       [ 65,  57,  43, 101,  41]])"
      ]
     },
     "execution_count": 46,
     "metadata": {},
     "output_type": "execute_result"
    }
   ],
   "source": [
    "mtrx_sm1dp2 = np.dot(mtrx_sm1, mtrx_sm2.T)\n",
    "\n",
    "mtrx_sm1dp2"
   ]
  },
  {
   "cell_type": "markdown",
   "id": "eb8c0074",
   "metadata": {},
   "source": [
    "## 4c. Comparison Operators\n",
    "\n",
    "[NumPy Docs: Logic Functions](https://numpy.org/doc/stable/reference/routines.logic.htm)"
   ]
  },
  {
   "cell_type": "code",
   "execution_count": 47,
   "id": "fb48a157",
   "metadata": {},
   "outputs": [
    {
     "data": {
      "text/plain": [
       "(array([1, 2, 3]),\n",
       " array([[1. , 2. , 3.3],\n",
       "        [4. , 5. , 6.5]]))"
      ]
     },
     "execution_count": 47,
     "metadata": {},
     "output_type": "execute_result"
    }
   ],
   "source": [
    "arr_1d, arr_2d"
   ]
  },
  {
   "cell_type": "code",
   "execution_count": 48,
   "id": "551f2d4a",
   "metadata": {},
   "outputs": [
    {
     "data": {
      "text/plain": [
       "array([[False, False,  True],\n",
       "       [ True,  True,  True]])"
      ]
     },
     "execution_count": 48,
     "metadata": {},
     "output_type": "execute_result"
    }
   ],
   "source": [
    "arr_1d < arr_2d"
   ]
  },
  {
   "cell_type": "code",
   "execution_count": 49,
   "id": "437e82ff",
   "metadata": {},
   "outputs": [
    {
     "data": {
      "text/plain": [
       "array([[ True,  True, False],\n",
       "       [False, False, False]])"
      ]
     },
     "execution_count": 49,
     "metadata": {},
     "output_type": "execute_result"
    }
   ],
   "source": [
    "arr_1d == arr_2d"
   ]
  },
  {
   "cell_type": "code",
   "execution_count": 50,
   "id": "7dd7e354",
   "metadata": {},
   "outputs": [
    {
     "data": {
      "text/plain": [
       "array([[False, False,  True],\n",
       "       [ True,  True,  True]])"
      ]
     },
     "execution_count": 50,
     "metadata": {},
     "output_type": "execute_result"
    }
   ],
   "source": [
    "np.not_equal(arr_1d, arr_2d)"
   ]
  },
  {
   "cell_type": "code",
   "execution_count": 51,
   "id": "7e38920f",
   "metadata": {},
   "outputs": [
    {
     "data": {
      "text/plain": [
       "array([[ True,  True,  True],\n",
       "       [ True, False, False]])"
      ]
     },
     "execution_count": 51,
     "metadata": {},
     "output_type": "execute_result"
    }
   ],
   "source": [
    "arr_2d < 4.5"
   ]
  },
  {
   "cell_type": "markdown",
   "id": "8bc5916c",
   "metadata": {},
   "source": [
    "## 5. Sorting Arrays\n",
    "\n",
    "- np.sort()\n",
    "- np.argsort()"
   ]
  },
  {
   "cell_type": "code",
   "execution_count": 52,
   "id": "7066df0d",
   "metadata": {},
   "outputs": [
    {
     "data": {
      "text/plain": [
       "array([[48, 32, 11, 45, 33],\n",
       "       [30,  4,  6, 37,  6],\n",
       "       [22, 45,  5,  2, 31]])"
      ]
     },
     "execution_count": 52,
     "metadata": {},
     "output_type": "execute_result"
    }
   ],
   "source": [
    "np.random.seed(50)\n",
    "\n",
    "arr_rand6 = np.random.randint(50, size=(3,5))\n",
    "arr_rand6"
   ]
  },
  {
   "cell_type": "code",
   "execution_count": 53,
   "id": "4b498dcb",
   "metadata": {},
   "outputs": [
    {
     "data": {
      "text/plain": [
       "array([[11, 32, 33, 45, 48],\n",
       "       [ 4,  6,  6, 30, 37],\n",
       "       [ 2,  5, 22, 31, 45]])"
      ]
     },
     "execution_count": 53,
     "metadata": {},
     "output_type": "execute_result"
    }
   ],
   "source": [
    "np.sort(arr_rand6)"
   ]
  },
  {
   "cell_type": "code",
   "execution_count": 54,
   "id": "1b158eb5",
   "metadata": {},
   "outputs": [
    {
     "data": {
      "text/plain": [
       "array([[48, 32, 11, 45, 33],\n",
       "       [30,  4,  6, 37,  6],\n",
       "       [22, 45,  5,  2, 31]])"
      ]
     },
     "execution_count": 54,
     "metadata": {},
     "output_type": "execute_result"
    }
   ],
   "source": [
    "arr_rand6"
   ]
  },
  {
   "cell_type": "code",
   "execution_count": 55,
   "id": "d0c5a66a",
   "metadata": {},
   "outputs": [
    {
     "data": {
      "text/plain": [
       "array([[2, 1, 4, 3, 0],\n",
       "       [1, 2, 4, 0, 3],\n",
       "       [3, 2, 0, 4, 1]], dtype=int64)"
      ]
     },
     "execution_count": 55,
     "metadata": {},
     "output_type": "execute_result"
    }
   ],
   "source": [
    "np.argsort(arr_rand6)"
   ]
  },
  {
   "cell_type": "markdown",
   "id": "9e81f701",
   "metadata": {},
   "source": [
    "Argsort is bit tricky at first. Be careful of the Einstellung trap here!\n",
    "\n",
    "The indices along the sorted axis are NOT telling you the sorted position of the corresponding element in the unsorted array.\n",
    "\n",
    "#### So how does Argsort actually work?\n",
    "\n",
    "The indices themselves are in sorted order. E.g. looking at row 1 above:\n",
    "- index 2 holds the smallest element of the row, i.e. 11\n",
    "- index 1 holds the next largest, i.e. 32\n",
    "- ...\n",
    "- index 0 holds the largest element, i.e. 48"
   ]
  },
  {
   "cell_type": "code",
   "execution_count": 56,
   "id": "1aceebe9",
   "metadata": {},
   "outputs": [
    {
     "data": {
      "text/plain": [
       "array([[48, 32, 11, 45, 33],\n",
       "       [30,  4,  6, 37,  6],\n",
       "       [22, 45,  5,  2, 31]])"
      ]
     },
     "execution_count": 56,
     "metadata": {},
     "output_type": "execute_result"
    }
   ],
   "source": [
    "arr_rand6 # Shape: (3,5)"
   ]
  },
  {
   "cell_type": "code",
   "execution_count": 57,
   "id": "7becc67f",
   "metadata": {},
   "outputs": [
    {
     "data": {
      "text/plain": [
       "13"
      ]
     },
     "execution_count": 57,
     "metadata": {},
     "output_type": "execute_result"
    }
   ],
   "source": [
    "np.argmin(arr_rand6)"
   ]
  },
  {
   "cell_type": "code",
   "execution_count": 58,
   "id": "1dc170a8",
   "metadata": {},
   "outputs": [
    {
     "data": {
      "text/plain": [
       "0"
      ]
     },
     "execution_count": 58,
     "metadata": {},
     "output_type": "execute_result"
    }
   ],
   "source": [
    "np.argmax(arr_rand6)"
   ]
  },
  {
   "cell_type": "code",
   "execution_count": 59,
   "id": "ed5e05f8",
   "metadata": {},
   "outputs": [
    {
     "data": {
      "text/plain": [
       "array([0, 3, 1], dtype=int64)"
      ]
     },
     "execution_count": 59,
     "metadata": {},
     "output_type": "execute_result"
    }
   ],
   "source": [
    "np.argmax(arr_rand6, axis=1)"
   ]
  },
  {
   "cell_type": "code",
   "execution_count": 60,
   "id": "402e875a",
   "metadata": {},
   "outputs": [
    {
     "data": {
      "text/plain": [
       "array([2, 1, 2, 2, 1], dtype=int64)"
      ]
     },
     "execution_count": 60,
     "metadata": {},
     "output_type": "execute_result"
    }
   ],
   "source": [
    "np.argmin(arr_rand6, axis=0)"
   ]
  },
  {
   "cell_type": "markdown",
   "id": "030d9090",
   "metadata": {},
   "source": [
    "## 6. Images → NumPy Arrays"
   ]
  },
  {
   "cell_type": "markdown",
   "id": "af6d0280",
   "metadata": {},
   "source": [
    "![Panda](../images/hello-numpy/panda.png)"
   ]
  },
  {
   "cell_type": "code",
   "execution_count": 61,
   "id": "b5618fe8",
   "metadata": {},
   "outputs": [
    {
     "data": {
      "text/plain": [
       "numpy.ndarray"
      ]
     },
     "execution_count": 61,
     "metadata": {},
     "output_type": "execute_result"
    }
   ],
   "source": [
    "from matplotlib.image import imread\n",
    "\n",
    "panda = imread(\"../images/hello-numpy/panda.png\")\n",
    "\n",
    "type(panda)"
   ]
  },
  {
   "cell_type": "code",
   "execution_count": 62,
   "id": "3ae2fd21",
   "metadata": {},
   "outputs": [
    {
     "data": {
      "text/plain": [
       "((2330, 3500, 3), 24465000)"
      ]
     },
     "execution_count": 62,
     "metadata": {},
     "output_type": "execute_result"
    }
   ],
   "source": [
    "panda.shape, panda.size"
   ]
  }
 ],
 "metadata": {
  "kernelspec": {
   "display_name": "Python 3",
   "language": "python",
   "name": "python3"
  },
  "language_info": {
   "codemirror_mode": {
    "name": "ipython",
    "version": 3
   },
   "file_extension": ".py",
   "mimetype": "text/x-python",
   "name": "python",
   "nbconvert_exporter": "python",
   "pygments_lexer": "ipython3",
   "version": "3.9.2"
  }
 },
 "nbformat": 4,
 "nbformat_minor": 5
}
