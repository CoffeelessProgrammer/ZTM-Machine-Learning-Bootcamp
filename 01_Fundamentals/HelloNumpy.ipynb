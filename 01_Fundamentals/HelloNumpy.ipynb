{
 "cells": [
  {
   "cell_type": "markdown",
   "id": "69b44b6a",
   "metadata": {},
   "source": [
    "# Intro to NumPy"
   ]
  },
  {
   "cell_type": "code",
   "execution_count": 1,
   "id": "d68fdd5f",
   "metadata": {},
   "outputs": [],
   "source": [
    "import numpy as np"
   ]
  },
  {
   "cell_type": "markdown",
   "id": "3e19378d",
   "metadata": {},
   "source": [
    "## 1. DataTypes\n",
    "\n",
    "- NumPy's main datatype is **ndarray**\n",
    "    - This type applies to numpy arrays of any dimension\n",
    "    \n",
    "### Ndarray Attributes\n",
    "\n",
    "- ndim – dimension count\n",
    "- shape – num elements in each sub-dimension\n",
    "- size – element count\n",
    "- dtype – type of data stored"
   ]
  },
  {
   "cell_type": "code",
   "execution_count": 6,
   "id": "8bebf165",
   "metadata": {},
   "outputs": [
    {
     "data": {
      "text/plain": [
       "array([1, 2, 3])"
      ]
     },
     "execution_count": 6,
     "metadata": {},
     "output_type": "execute_result"
    }
   ],
   "source": [
    "arr_1d = np.array([1, 2, 3]) # Shape = (1,3)\n",
    "arr_1d"
   ]
  },
  {
   "cell_type": "code",
   "execution_count": 11,
   "id": "a1439265",
   "metadata": {},
   "outputs": [],
   "source": [
    "arr_2d = np.array([[1, 2.0, 3.3],\n",
    "                   [4, 5, 6.5]]) # Shape = (2,3)\n",
    "\n",
    "arr_3d = np.array([[[1, 2, 3],\n",
    "                    [4, 5, 6],\n",
    "                    [7, 8, 9],\n",
    "                    [1, 2, 3]],\n",
    "                   [[10, 11, 12],\n",
    "                    [13, 14, 15],\n",
    "                    [16, 17, 18],\n",
    "                    [10, 11, 12]]]) # Shape = (2,4,3)"
   ]
  },
  {
   "cell_type": "code",
   "execution_count": 17,
   "id": "02095629",
   "metadata": {},
   "outputs": [
    {
     "data": {
      "text/plain": [
       "(numpy.ndarray, numpy.ndarray)"
      ]
     },
     "execution_count": 17,
     "metadata": {},
     "output_type": "execute_result"
    }
   ],
   "source": [
    "type(arr_1d), type(arr_3d)"
   ]
  },
  {
   "cell_type": "code",
   "execution_count": 7,
   "id": "c2c22a32",
   "metadata": {},
   "outputs": [
    {
     "data": {
      "text/plain": [
       "(3,)"
      ]
     },
     "execution_count": 7,
     "metadata": {},
     "output_type": "execute_result"
    }
   ],
   "source": [
    "arr_1d.shape"
   ]
  },
  {
   "cell_type": "code",
   "execution_count": 12,
   "id": "edcb02b8",
   "metadata": {},
   "outputs": [
    {
     "data": {
      "text/plain": [
       "(2, 4, 3)"
      ]
     },
     "execution_count": 12,
     "metadata": {},
     "output_type": "execute_result"
    }
   ],
   "source": [
    "arr_3d.shape"
   ]
  },
  {
   "cell_type": "code",
   "execution_count": 14,
   "id": "92ce8580",
   "metadata": {},
   "outputs": [
    {
     "data": {
      "text/plain": [
       "(1, 2)"
      ]
     },
     "execution_count": 14,
     "metadata": {},
     "output_type": "execute_result"
    }
   ],
   "source": [
    "arr_1d.ndim, arr_2d.ndim"
   ]
  },
  {
   "cell_type": "code",
   "execution_count": 16,
   "id": "217e8950",
   "metadata": {},
   "outputs": [
    {
     "data": {
      "text/plain": [
       "(3, 6, 24)"
      ]
     },
     "execution_count": 16,
     "metadata": {},
     "output_type": "execute_result"
    }
   ],
   "source": [
    "arr_1d.size, arr_2d.size, arr_3d.size"
   ]
  },
  {
   "cell_type": "code",
   "execution_count": 15,
   "id": "e351e2b2",
   "metadata": {},
   "outputs": [
    {
     "data": {
      "text/plain": [
       "(dtype('float64'), dtype('int32'))"
      ]
     },
     "execution_count": 15,
     "metadata": {},
     "output_type": "execute_result"
    }
   ],
   "source": [
    "arr_2d.dtype, arr_3d.dtype"
   ]
  },
  {
   "cell_type": "markdown",
   "id": "facffb93",
   "metadata": {},
   "source": [
    "## 2. Creating Arrays\n",
    "\n",
    "### Basics\n",
    "\n",
    "#### np.ones(shape, dtype=None)\n",
    "- Return a new array of given shape & type, filled with ones\n",
    "    \n",
    "#### np.zeroes(shape, dtype=None)\n",
    "- Return a new array of given shape & type, filled with zeroes\n",
    "\n",
    "#### np.arange(\\[start,\\] stop\\[, step,\\], dtype=None)\n",
    "- Return evenly spaced values within a given interval\n",
    "- `stop` is exclusive"
   ]
  },
  {
   "cell_type": "code",
   "execution_count": 27,
   "id": "32b54ec2",
   "metadata": {},
   "outputs": [
    {
     "data": {
      "text/plain": [
       "array([[1, 1, 1],\n",
       "       [1, 1, 1]])"
      ]
     },
     "execution_count": 27,
     "metadata": {},
     "output_type": "execute_result"
    }
   ],
   "source": [
    "ones = np.ones((2, 3), dtype='int32')\n",
    "ones"
   ]
  },
  {
   "cell_type": "code",
   "execution_count": 28,
   "id": "8e482345",
   "metadata": {},
   "outputs": [
    {
     "data": {
      "text/plain": [
       "(numpy.ndarray, dtype('int32'))"
      ]
     },
     "execution_count": 28,
     "metadata": {},
     "output_type": "execute_result"
    }
   ],
   "source": [
    "type(ones), ones.dtype"
   ]
  },
  {
   "cell_type": "code",
   "execution_count": 29,
   "id": "29fd8ce9",
   "metadata": {},
   "outputs": [
    {
     "data": {
      "text/plain": [
       "array([0, 2, 4, 6, 8])"
      ]
     },
     "execution_count": 29,
     "metadata": {},
     "output_type": "execute_result"
    }
   ],
   "source": [
    "arr_range = np.arange(0, 10, 2)\n",
    "arr_range"
   ]
  },
  {
   "cell_type": "markdown",
   "id": "0ccd9c8c",
   "metadata": {},
   "source": [
    "### Random Numbers\n",
    "\n",
    "#### np.random.randint(low, high=None, size=None, dtype='l')\n",
    "- Return random integers from `low` (inc) to `high` (exc)\n",
    "- `size` means shape\n",
    "- `low` param is optional, default 0\n",
    "\n",
    "#### np.random.random(size=None)\n",
    "- Return random floats in the half-open interval `[0.0, 0.1)`\n",
    "\n",
    "#### np.random.rand(d0, d1, ..., dn)\n",
    "- Return random values in a given shape"
   ]
  },
  {
   "cell_type": "code",
   "execution_count": 30,
   "id": "db5460b7",
   "metadata": {},
   "outputs": [
    {
     "data": {
      "text/plain": [
       "array([[5, 6, 2, 6, 8],\n",
       "       [3, 2, 0, 4, 7],\n",
       "       [7, 1, 0, 4, 4]])"
      ]
     },
     "execution_count": 30,
     "metadata": {},
     "output_type": "execute_result"
    }
   ],
   "source": [
    "arr_rand = np.random.randint(0, 10, size=(3, 5))\n",
    "arr_rand"
   ]
  },
  {
   "cell_type": "code",
   "execution_count": 33,
   "id": "1e95e3e9",
   "metadata": {},
   "outputs": [
    {
     "data": {
      "text/plain": [
       "('Elements: 15', 'Shape: (3, 5)')"
      ]
     },
     "execution_count": 33,
     "metadata": {},
     "output_type": "execute_result"
    }
   ],
   "source": [
    "\"Elements: \" + str(arr_rand.size), \"Shape: \" + str(arr_rand.shape)"
   ]
  },
  {
   "cell_type": "code",
   "execution_count": 34,
   "id": "12b1e0cb",
   "metadata": {},
   "outputs": [
    {
     "data": {
      "text/plain": [
       "array([[0.12168463, 0.20612932],\n",
       "       [0.65245851, 0.1902626 ],\n",
       "       [0.03445084, 0.0842392 ],\n",
       "       [0.8776608 , 0.07245298]])"
      ]
     },
     "execution_count": 34,
     "metadata": {},
     "output_type": "execute_result"
    }
   ],
   "source": [
    "arr_rand2 = np.random.random((4,2))\n",
    "arr_rand2"
   ]
  },
  {
   "cell_type": "code",
   "execution_count": 35,
   "id": "56453370",
   "metadata": {},
   "outputs": [
    {
     "data": {
      "text/plain": [
       "array([[0.09428003, 0.39954593],\n",
       "       [0.41129143, 0.57502195],\n",
       "       [0.31167425, 0.92525884],\n",
       "       [0.02600328, 0.12513635]])"
      ]
     },
     "execution_count": 35,
     "metadata": {},
     "output_type": "execute_result"
    }
   ],
   "source": [
    "arr_rand3 = np.random.rand(4,2)\n",
    "arr_rand3"
   ]
  },
  {
   "cell_type": "markdown",
   "id": "435614c9",
   "metadata": {},
   "source": [
    "### Random Seed\n",
    "\n",
    "#### np.random.seed(seed=None)\n",
    "- A seed allows reproducible randomness, useful when sharing the notebook\n",
    "- A defined seed only applies to the cell its declared in"
   ]
  },
  {
   "cell_type": "code",
   "execution_count": 44,
   "id": "868ea608",
   "metadata": {},
   "outputs": [
    {
     "data": {
      "text/plain": [
       "array([[ 6, 19, 14, 10,  7, 20,  6, 18, 10, 10],\n",
       "       [20,  3,  7,  2, 20,  1, 11,  5,  1, 20]])"
      ]
     },
     "execution_count": 44,
     "metadata": {},
     "output_type": "execute_result"
    }
   ],
   "source": [
    "np.random.seed(42)\n",
    "arr_rand4 = np.random.randint(21, size=(2,10))\n",
    "arr_rand4"
   ]
  },
  {
   "cell_type": "markdown",
   "id": "8e743afe",
   "metadata": {},
   "source": [
    "## 3. Viewing Arrays & Matrices\n",
    "\n",
    "**Matrix** – an array with 2+ dimensions\n",
    "\n",
    "Access matrix elements by index via square brackets, e.g. `arr[d0, d1]`\n",
    "\n",
    "#### np.unique(ndarray)\n",
    "- Return the unique elements as a (sorted?) array\n",
    "- Works on ndarray of any shape\n",
    "\n"
   ]
  },
  {
   "cell_type": "code",
   "execution_count": 45,
   "id": "1eb170f9",
   "metadata": {},
   "outputs": [
    {
     "data": {
      "text/plain": [
       "array([ 1,  2,  3,  5,  6,  7, 10, 11, 14, 18, 19, 20])"
      ]
     },
     "execution_count": 45,
     "metadata": {},
     "output_type": "execute_result"
    }
   ],
   "source": [
    "np.unique(arr_rand4)"
   ]
  },
  {
   "cell_type": "code",
   "execution_count": 48,
   "id": "156d3fbc",
   "metadata": {},
   "outputs": [
    {
     "data": {
      "text/plain": [
       "(array([[[ 1,  2,  3],\n",
       "         [ 4,  5,  6],\n",
       "         [ 7,  8,  9],\n",
       "         [ 1,  2,  3]],\n",
       " \n",
       "        [[10, 11, 12],\n",
       "         [13, 14, 15],\n",
       "         [16, 17, 18],\n",
       "         [10, 11, 12]]]),\n",
       " 8)"
      ]
     },
     "execution_count": 48,
     "metadata": {},
     "output_type": "execute_result"
    }
   ],
   "source": [
    "arr_3d, arr_3d[0,2,1]"
   ]
  },
  {
   "cell_type": "code",
   "execution_count": 47,
   "id": "2641f2e6",
   "metadata": {},
   "outputs": [
    {
     "data": {
      "text/plain": [
       "(array([20,  3,  7,  2, 20,  1, 11,  5,  1, 20]), 20)"
      ]
     },
     "execution_count": 47,
     "metadata": {},
     "output_type": "execute_result"
    }
   ],
   "source": [
    "arr_rand4[1], arr_rand4[1,4]"
   ]
  },
  {
   "cell_type": "code",
   "execution_count": 49,
   "id": "a1a8836e",
   "metadata": {},
   "outputs": [
    {
     "data": {
      "text/plain": [
       "array([[[ 5,  6],\n",
       "        [ 8,  9]],\n",
       "\n",
       "       [[14, 15],\n",
       "        [17, 18]]])"
      ]
     },
     "execution_count": 49,
     "metadata": {},
     "output_type": "execute_result"
    }
   ],
   "source": [
    "arr_3d[:2, 1:3, 1:] # Slicing also works on ndarrays"
   ]
  },
  {
   "cell_type": "code",
   "execution_count": 50,
   "id": "05405fb2",
   "metadata": {},
   "outputs": [
    {
     "data": {
      "text/plain": [
       "array([[[[0, 9, 5, 8, 0],\n",
       "         [9, 2, 6, 3, 8],\n",
       "         [2, 4, 2, 6, 4],\n",
       "         [8, 6, 1, 3, 8]],\n",
       "\n",
       "        [[1, 9, 8, 9, 4],\n",
       "         [1, 3, 6, 7, 2],\n",
       "         [0, 3, 1, 7, 3],\n",
       "         [1, 5, 5, 9, 3]],\n",
       "\n",
       "        [[5, 1, 9, 1, 9],\n",
       "         [3, 7, 6, 8, 7],\n",
       "         [4, 1, 4, 7, 9],\n",
       "         [8, 8, 0, 8, 6]]],\n",
       "\n",
       "\n",
       "       [[[8, 7, 0, 7, 7],\n",
       "         [2, 0, 7, 2, 2],\n",
       "         [0, 4, 9, 6, 9],\n",
       "         [8, 6, 8, 7, 1]],\n",
       "\n",
       "        [[0, 6, 6, 7, 4],\n",
       "         [2, 7, 5, 2, 0],\n",
       "         [2, 4, 2, 0, 4],\n",
       "         [9, 6, 6, 8, 9]],\n",
       "\n",
       "        [[9, 2, 6, 0, 3],\n",
       "         [3, 4, 6, 6, 3],\n",
       "         [6, 2, 5, 1, 9],\n",
       "         [8, 4, 5, 3, 9]]]])"
      ]
     },
     "execution_count": 50,
     "metadata": {},
     "output_type": "execute_result"
    }
   ],
   "source": [
    "arr_rand5 = np.random.randint(10, size=(2,3,4,5))\n",
    "arr_rand5"
   ]
  },
  {
   "cell_type": "markdown",
   "id": "2af0ee1f",
   "metadata": {},
   "source": [
    "### How would we get the center 3 numbers of the innermost arrays?"
   ]
  },
  {
   "cell_type": "code",
   "execution_count": 54,
   "id": "08d4f04e",
   "metadata": {},
   "outputs": [
    {
     "data": {
      "text/plain": [
       "array([[[[9, 5, 8],\n",
       "         [2, 6, 3],\n",
       "         [4, 2, 6],\n",
       "         [6, 1, 3]],\n",
       "\n",
       "        [[9, 8, 9],\n",
       "         [3, 6, 7],\n",
       "         [3, 1, 7],\n",
       "         [5, 5, 9]],\n",
       "\n",
       "        [[1, 9, 1],\n",
       "         [7, 6, 8],\n",
       "         [1, 4, 7],\n",
       "         [8, 0, 8]]],\n",
       "\n",
       "\n",
       "       [[[7, 0, 7],\n",
       "         [0, 7, 2],\n",
       "         [4, 9, 6],\n",
       "         [6, 8, 7]],\n",
       "\n",
       "        [[6, 6, 7],\n",
       "         [7, 5, 2],\n",
       "         [4, 2, 0],\n",
       "         [6, 6, 8]],\n",
       "\n",
       "        [[2, 6, 0],\n",
       "         [4, 6, 6],\n",
       "         [2, 5, 1],\n",
       "         [4, 5, 3]]]])"
      ]
     },
     "execution_count": 54,
     "metadata": {},
     "output_type": "execute_result"
    }
   ],
   "source": [
    "arr_rand5[:, :, :, 1:4]"
   ]
  }
 ],
 "metadata": {
  "kernelspec": {
   "display_name": "Python 3",
   "language": "python",
   "name": "python3"
  },
  "language_info": {
   "codemirror_mode": {
    "name": "ipython",
    "version": 3
   },
   "file_extension": ".py",
   "mimetype": "text/x-python",
   "name": "python",
   "nbconvert_exporter": "python",
   "pygments_lexer": "ipython3",
   "version": "3.9.2"
  }
 },
 "nbformat": 4,
 "nbformat_minor": 5
}
